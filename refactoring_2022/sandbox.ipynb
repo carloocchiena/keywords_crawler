{
 "cells": [
  {
   "cell_type": "code",
   "execution_count": 1,
   "metadata": {},
   "outputs": [],
   "source": [
    "from collections import Counter\n",
    "from concurrent.futures import ThreadPoolExecutor, as_completed\n",
    "import pprint\n",
    "\n",
    "from bs4 import BeautifulSoup as bs4\n",
    "import requests\n",
    "\n",
    "from stop_words import stop_words_update"
   ]
  },
  {
   "cell_type": "code",
   "execution_count": 2,
   "metadata": {},
   "outputs": [],
   "source": [
    "my_list = ['https://www.azionadigitale.com/nemo/', 'https://www.azionadigitale.com/surely-youre-joking-mr-feynman-di-richard-feynman/', 'https://www.azionadigitale.com/iic-alpimed-mobil/', 'https://www.azionadigitale.com/blog/', 'https://www.azionadigitale.com/strategy/', 'https://www.azionadigitale.com/contattaci/', 'https://www.azionadigitale.com/smart-track/', 'https://www.azionadigitale.com/inizia-da-qui/', 'https://www.azionadigitale.com/case-studies/', 'https://www.azionadigitale.com/cdn-cgi/l/email-protection#0f67292c3e3f3e34292c3e3f3734292c3e3f373460292c3f393b34292c3f363834292c3e3d3d34292c3e3f3a346061292c3f363834292c3e3f3f34292c3e3f3a3468292c3e3f3a34292c3e3e3934292c3f363834292c3e3f37346a21292c3f363634292c3e3e3e3462', 'https://www.azionadigitale.com/martech/', 'https://www.azionadigitale.com/risorse/', 'https://www.azionadigitale.com/', 'https://www.azionadigitale.com/servizi-trasformazione-digitale/', 'https://www.azionadigitale.com/chi-siamo/', 'https://www.azionadigitale.com/sviluppiamo-una-restful-api-con-python-e-fastapi/', 'https://www.azionadigitale.com/sviluppo-web/', 'https://www.azionadigitale.com/privacy-policy/', 'https://www.azionadigitale.com/manifesto/', 'https://www.azionadigitale.com/crm-gratuiti-le-10-migliori-soluzioni-da-provare-nel-2023/', 'https://www.azionadigitale.com/key-to-energy/', 'https://www.azionadigitale.com/mvp-minimum-viable-product/', 'https://www.azionadigitale.com/app/']"
   ]
  },
  {
   "cell_type": "code",
   "execution_count": 7,
   "metadata": {},
   "outputs": [],
   "source": [
    "def url_crawler(url: str) -> list:\n",
    "    \"\"\"Crawl a website and find all the internal urls\n",
    "\n",
    "    Args:\n",
    "        url (str): the url that need to be scraped\n",
    "\n",
    "    Returns:\n",
    "        list: a list of all the internal url find in the target website\n",
    "    \"\"\"\n",
    "    raw_data = []\n",
    "    \n",
    "    header = {'User-Agent': 'Mozilla/5.0 (Macintosh; Intel Mac OS X 13_0) AppleWebKit/537.36 (KHTML, like Gecko) Chrome/106.0.0.0 Safari/537.36'}\n",
    "\n",
    "    try:\n",
    "        source_code = requests.get(url, 'html.parser', headers=header).content\n",
    "        soup = bs4(source_code, 'html.parser')\n",
    "        links = soup.find_all('a', href=True)\n",
    "    except ConnectionError:\n",
    "        print(f'[!!!] Connection error for: {url}')\n",
    "        \n",
    "    for link in links:\n",
    "        raw_data.append(str(link.get('href')))\n",
    "    \n",
    "    return raw_data\n",
    "\n",
    "\n",
    "def url_cleaner(url: str, data: list) -> list:\n",
    "    \"\"\"Clean the urls\n",
    "\n",
    "    Args:\n",
    "        url (str): the website that need to be scraped\n",
    "        data (list): the list of raw urls\n",
    "\n",
    "    Returns:\n",
    "        list: list cleaned\n",
    "    \"\"\"\n",
    "    clean_data = []    \n",
    "    \n",
    "    for link in data:\n",
    "        if link[0] == '/':\n",
    "            clean_data.append(url+link)\n",
    "        \n",
    "        if link[0:len(url)] == url:\n",
    "            clean_data.append(link)\n",
    "            \n",
    "    clean_data = set(clean_data)\n",
    "    \n",
    "    return list(clean_data)"
   ]
  },
  {
   "cell_type": "code",
   "execution_count": null,
   "metadata": {},
   "outputs": [],
   "source": [
    "lista = [1,2,3,4,5,6,7,8,9,10]\n",
    "\n",
    "for i in lista:\n",
    "    if i % 2 == 0:\n",
    "        lista.remove(i)\n",
    "\n",
    "print(lista)"
   ]
  },
  {
   "cell_type": "code",
   "execution_count": null,
   "metadata": {},
   "outputs": [],
   "source": []
  },
  {
   "cell_type": "code",
   "execution_count": null,
   "metadata": {},
   "outputs": [],
   "source": []
  }
 ],
 "metadata": {
  "kernelspec": {
   "display_name": "Python 3.8.8 ('base')",
   "language": "python",
   "name": "python3"
  },
  "language_info": {
   "codemirror_mode": {
    "name": "ipython",
    "version": 3
   },
   "file_extension": ".py",
   "mimetype": "text/x-python",
   "name": "python",
   "nbconvert_exporter": "python",
   "pygments_lexer": "ipython3",
   "version": "3.8.8"
  },
  "orig_nbformat": 4,
  "vscode": {
   "interpreter": {
    "hash": "a077222d77dfe082b8f1dd562ad70e458ac2ab76993a0b248ab0476e32e9e8dd"
   }
  }
 },
 "nbformat": 4,
 "nbformat_minor": 2
}
