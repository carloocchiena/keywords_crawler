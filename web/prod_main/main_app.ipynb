{
 "cells": [
  {
   "cell_type": "code",
   "execution_count": null,
   "metadata": {
    "tags": []
   },
   "outputs": [
    {
     "name": "stdout",
     "output_type": "stream",
     "text": [
      " * Serving Flask app \"__main__\" (lazy loading)\n",
      " * Environment: production\n",
      "   WARNING: This is a development server. Do not use it in a production deployment.\n",
      "   Use a production WSGI server instead.\n",
      " * Debug mode: on\n"
     ]
    },
    {
     "name": "stderr",
     "output_type": "stream",
     "text": [
      " * Running on http://127.0.0.1:5000/ (Press CTRL+C to quit)\n",
      "127.0.0.1 - - [14/Jul/2021 18:04:47] \"\u001b[37mGET / HTTP/1.1\u001b[0m\" 200 -\n",
      "127.0.0.1 - - [14/Jul/2021 18:04:47] \"\u001b[36mGET /static/mystyle.css HTTP/1.1\u001b[0m\" 304 -\n",
      "127.0.0.1 - - [14/Jul/2021 18:04:47] \"\u001b[37mGET /static/main.js HTTP/1.1\u001b[0m\" 200 -\n",
      "[nltk_data] Downloading package stopwords to\n",
      "[nltk_data]     C:\\Users\\user\\AppData\\Roaming\\nltk_data...\n",
      "[nltk_data]   Package stopwords is already up-to-date!\n",
      "127.0.0.1 - - [14/Jul/2021 18:05:06] \"\u001b[37mPOST / HTTP/1.1\u001b[0m\" 200 -\n",
      "127.0.0.1 - - [14/Jul/2021 18:05:08] \"\u001b[37mGET / HTTP/1.1\u001b[0m\" 200 -\n"
     ]
    }
   ],
   "source": [
    "from flask import Flask, request, render_template\n",
    "from processing import kw_ranking, crawler, cleaner\n",
    "\n",
    "app = Flask(__name__)\n",
    "app.config[\"DEBUG\"] = True\n",
    "\n",
    "#render about page \n",
    "@app.route('/about', methods = [\"GET\"])\n",
    "def about():\n",
    "    return render_template(\"about.html\")\n",
    "\n",
    "#render main page\n",
    "@app.route('/', methods = [\"GET\", \"POST\"])\n",
    "def input_page():\n",
    "    errors = \"\"\n",
    "    if request.method == \"POST\":\n",
    "        url = None\n",
    "        url = f\"https://www.{request.form['url']}\"\n",
    "      \n",
    "        if url is not None:\n",
    "            try:\n",
    "                links = crawler(url)\n",
    "                result = kw_ranking(links)\n",
    "                return render_template(\"results.html\", result=result)\n",
    "            except Exception as e:\n",
    "                #errors = \"🐸 The anti-bug frog has caught something! Can you try again with another site? Sorry, it's still a beta version!\"\n",
    "                errors = e\n",
    "    return render_template(\"main.html\", errors=errors)\n",
    "\n",
    "if __name__ == '__main__':\n",
    "    app.run(use_reloader=False)\n"
   ]
  },
  {
   "cell_type": "code",
   "execution_count": null,
   "metadata": {},
   "outputs": [],
   "source": []
  }
 ],
 "metadata": {
  "interpreter": {
   "hash": "6d46af94c2bbce495f1e668725902fa517c90b1782bcfe2fce0dd9868df553d3"
  },
  "kernelspec": {
   "display_name": "Python 3",
   "language": "python",
   "name": "python3"
  },
  "language_info": {
   "codemirror_mode": {
    "name": "ipython",
    "version": 3
   },
   "file_extension": ".py",
   "mimetype": "text/x-python",
   "name": "python",
   "nbconvert_exporter": "python",
   "pygments_lexer": "ipython3",
   "version": "3.8.8"
  }
 },
 "nbformat": 4,
 "nbformat_minor": 2
}
