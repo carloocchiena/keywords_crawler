{
 "cells": [
  {
   "cell_type": "code",
   "execution_count": null,
   "metadata": {
    "tags": []
   },
   "outputs": [],
   "source": [
    "from flask import Flask, request, render_template, Response\n",
    "from concurrent.futures import ThreadPoolExecutor, as_completed\n",
    "from processing import kw_ranking, crawler\n",
    "\n",
    "app = Flask(__name__)\n",
    "app.config[\"DEBUG\"] = True\n",
    "\n",
    "#orchestrator function\n",
    "def generate_kw(links_input):\n",
    "    MAX_THREADS = 50\n",
    "    threads = min(MAX_THREADS, len(links_input))\n",
    "    with ThreadPoolExecutor(max_workers=MAX_THREADS) as executor:\n",
    "        futures = {executor.submit(kw_ranking, link): link for link in links_input}\n",
    "        \n",
    "        yield \"Process started - results will follow below:<br><br>\"  #this is to \"immediately\" return a value\n",
    "        \n",
    "        for result in as_completed(futures):\n",
    "            link_list = futures.get(result)\n",
    "            try:\n",
    "                data=result.result()\n",
    "            except Exception as e:\n",
    "                return \"NOK1\"\n",
    "            else:\n",
    "                yield (f\"Link: {link_list}\\n<br> Data:{list(data.values())}\\n<br><br>\")\n",
    "\n",
    "#render about page \n",
    "@app.route('/about', methods = [\"GET\"])\n",
    "def about():\n",
    "    return render_template(\"about.html\")\n",
    "\n",
    "#render content page\n",
    "@app.route('/content')\n",
    "def input_page():\n",
    "    try:\n",
    "        return Response(generate_kw(links), mimetype=\"text/html\") \n",
    "    except Exception as e:\n",
    "        return \"\"\n",
    "    \n",
    "#render main page\n",
    "@app.route('/', methods = [\"GET\", \"POST\"])\n",
    "def index():\n",
    "    if request.method == \"POST\":\n",
    "        url = f\"https://www.{request.form['url']}\"\n",
    "        try:\n",
    "            global links\n",
    "            links = crawler(url)\n",
    "        except Exception as e:\n",
    "            errors = e\n",
    "        \n",
    "    elif request.method == \"GET\":\n",
    "        url = None\n",
    "    return render_template('index.html.jinja') \n",
    "\n",
    "if __name__ == '__main__':\n",
    "    app.run(use_reloader=False)"
   ]
  }
 ],
 "metadata": {
  "interpreter": {
   "hash": "6d46af94c2bbce495f1e668725902fa517c90b1782bcfe2fce0dd9868df553d3"
  },
  "kernelspec": {
   "display_name": "Python 3",
   "language": "python",
   "name": "python3"
  },
  "language_info": {
   "codemirror_mode": {
    "name": "ipython",
    "version": 3
   },
   "file_extension": ".py",
   "mimetype": "text/x-python",
   "name": "python",
   "nbconvert_exporter": "python",
   "pygments_lexer": "ipython3",
   "version": "3.8.8"
  }
 },
 "nbformat": 4,
 "nbformat_minor": 2
}
